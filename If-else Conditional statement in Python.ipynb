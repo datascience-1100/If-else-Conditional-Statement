{
 "cells": [
  {
   "cell_type": "markdown",
   "id": "28490894",
   "metadata": {},
   "source": [
    "To Check if a number is greater than 100 or not"
   ]
  },
  {
   "cell_type": "code",
   "execution_count": 2,
   "id": "6fd2b8be",
   "metadata": {},
   "outputs": [
    {
     "name": "stdout",
     "output_type": "stream",
     "text": [
      "Enter a number80\n",
      "a is not greater than 100\n"
     ]
    }
   ],
   "source": [
    "a=int(input(\"Enter a number\"))\n",
    "if a>100:\n",
    "    print(\"a is greater than 100\")\n",
    "else:\n",
    "    print(\"a is not greater than 100\")"
   ]
  },
  {
   "cell_type": "markdown",
   "id": "cd31d28d",
   "metadata": {},
   "source": [
    "Checking if a Number is Even or Odd"
   ]
  },
  {
   "cell_type": "code",
   "execution_count": 4,
   "id": "17f6a07d",
   "metadata": {},
   "outputs": [
    {
     "name": "stdout",
     "output_type": "stream",
     "text": [
      "Enter any number13\n",
      "a is an odd number\n"
     ]
    }
   ],
   "source": [
    "a=int(input (\"Enter any number\"))\n",
    "if a%2==0:\n",
    "    print(\"a is an even number\")\n",
    "else: \n",
    "    print(\"a is an odd number\")"
   ]
  },
  {
   "cell_type": "markdown",
   "id": "da70a89b",
   "metadata": {},
   "source": [
    "Determining the Maximum of Two Numbers"
   ]
  },
  {
   "cell_type": "code",
   "execution_count": 5,
   "id": "0bb9296f",
   "metadata": {},
   "outputs": [
    {
     "name": "stdout",
     "output_type": "stream",
     "text": [
      "Enter a number30\n",
      "Enter a number40\n",
      "b us the biggest no\n"
     ]
    }
   ],
   "source": [
    "a=int(input(\"Enter a number\"))\n",
    "b=int(input(\"Enter a number\"))\n",
    "if a>b:\n",
    "    print(\"a is the biggest no\")\n",
    "else:\n",
    "    print(\"b is the biggest no\")"
   ]
  },
  {
   "cell_type": "markdown",
   "id": "8db0600c",
   "metadata": {},
   "source": [
    "Determining the Maximum of Three Numbers; Nested if- else"
   ]
  },
  {
   "cell_type": "code",
   "execution_count": 7,
   "id": "8f3e8ff3",
   "metadata": {},
   "outputs": [
    {
     "name": "stdout",
     "output_type": "stream",
     "text": [
      "Enter a number56\n",
      "Enter a number34\n",
      "Enter a number23\n",
      "a is the biggest no\n"
     ]
    }
   ],
   "source": [
    "#Nested if -else statement\n",
    "a=int(input(\"Enter a number\"))\n",
    "b=int(input(\"Enter a number\"))\n",
    "c=int(input(\"Enter a number\"))\n",
    "if a>b:\n",
    "    if a>c:\n",
    "        print(\"a is the biggest no\")\n",
    "    else:\n",
    "        print(\"c is the biggest no\")\n",
    "else:\n",
    "    if b>c:\n",
    "        print(\"b is the biggest no\")\n",
    "    else:\n",
    "        print(\"c is the biggest no\")"
   ]
  },
  {
   "cell_type": "markdown",
   "id": "9ae21724",
   "metadata": {},
   "source": [
    "Checking Leap Year"
   ]
  },
  {
   "cell_type": "code",
   "execution_count": 4,
   "id": "14574a2a",
   "metadata": {},
   "outputs": [
    {
     "name": "stdout",
     "output_type": "stream",
     "text": [
      "enter an year1900\n",
      "Not a leap year\n"
     ]
    }
   ],
   "source": [
    "year=int(input(\"enter an year\"))\n",
    "if (year%4==0 and year%100!=0) or year %400==0:\n",
    "    print(\"It is a leap year\")\n",
    "else:\n",
    "    print(\"Not a leap year\")"
   ]
  },
  {
   "cell_type": "markdown",
   "id": "ea77757e",
   "metadata": {},
   "source": [
    "User Authentication"
   ]
  },
  {
   "cell_type": "code",
   "execution_count": 11,
   "id": "b8c5ef66",
   "metadata": {},
   "outputs": [
    {
     "name": "stdout",
     "output_type": "stream",
     "text": [
      "Enter your emaillkdfjkdsjf\n",
      "Enter your password1234\n",
      "Invalid Credentials\n"
     ]
    }
   ],
   "source": [
    "#datasciencejourney100@gmail.com\n",
    "#password=1234\n",
    "email=input(\"Enter your email\")\n",
    "password=input(\"Enter your password\")\n",
    "if email == \"datasciencejourney100@gmail.com\" and password ==\"1234\":\n",
    "    print(\"Welcome to your page\")\n",
    "else:\n",
    "    print(\"Invalid Credentials\")"
   ]
  },
  {
   "cell_type": "markdown",
   "id": "32ac5dc0",
   "metadata": {},
   "source": [
    "Determining Quadrant of a Point"
   ]
  },
  {
   "cell_type": "code",
   "execution_count": 12,
   "id": "0ca3a3e8",
   "metadata": {},
   "outputs": [
    {
     "name": "stdout",
     "output_type": "stream",
     "text": [
      "Enter x3\n",
      "Enter y-5\n",
      "Fourth\n"
     ]
    }
   ],
   "source": [
    "x=int(input(\"Enter x\"))\n",
    "y=int(input(\"Enter y\"))\n",
    "if x>0 and y>0:\n",
    "   print(\"The point is in first quadrant\")\n",
    "elif x>0 and y<0:\n",
    "   print(\"Fourth\")\n",
    "elif x<0 and y>0:\n",
    "   print(\" Second quadrant\")\n",
    "else:\n",
    "    print(\"Third quadrant\")"
   ]
  },
  {
   "cell_type": "markdown",
   "id": "e0bb6c0d",
   "metadata": {},
   "source": [
    "Determining Discount based on Purchase Amount"
   ]
  },
  {
   "cell_type": "markdown",
   "id": "9aa5ae3f",
   "metadata": {},
   "source": [
    "Nested if-else statement- To Check "
   ]
  },
  {
   "cell_type": "code",
   "execution_count": 17,
   "id": "2d9d78b3",
   "metadata": {},
   "outputs": [
    {
     "name": "stdout",
     "output_type": "stream",
     "text": [
      "Enter the purchase amount900\n",
      "900\n"
     ]
    }
   ],
   "source": [
    "#purchase amount>1000 discount will be 10%\n",
    "purchase_amt=int(input(\"Enter the purchase amount\"))\n",
    "if purchase_amt>1000:\n",
    "    tobepaid=purchase_amt*.9\n",
    "    print(tobepaid)\n",
    "else:\n",
    "    print(purchase_amt)"
   ]
  },
  {
   "cell_type": "code",
   "execution_count": null,
   "id": "1dc89f47",
   "metadata": {},
   "outputs": [],
   "source": []
  },
  {
   "cell_type": "code",
   "execution_count": null,
   "id": "70625316",
   "metadata": {},
   "outputs": [],
   "source": []
  },
  {
   "cell_type": "markdown",
   "id": "c52aba51",
   "metadata": {},
   "source": [
    "Ternary Operator: Python also supports a ternary operator, which provides a concise way to write conditional expressions."
   ]
  },
  {
   "cell_type": "code",
   "execution_count": null,
   "id": "8b3c658b",
   "metadata": {},
   "outputs": [],
   "source": [
    "a=int(input (\"Enter any number\"))\n",
    "if a%2==0:\n",
    "    print(\"a is an even number\")\n",
    "else: \n",
    "    print(\"a is an odd number\")"
   ]
  },
  {
   "cell_type": "code",
   "execution_count": 18,
   "id": "2aad9898",
   "metadata": {},
   "outputs": [
    {
     "name": "stdout",
     "output_type": "stream",
     "text": [
      "Enter any number10\n",
      "even\n"
     ]
    }
   ],
   "source": [
    "a=int(input (\"Enter any number\"))\n",
    "result =\"even\" if a%2==0 else \"odd\"\n",
    "print(result)"
   ]
  },
  {
   "cell_type": "code",
   "execution_count": null,
   "id": "52077f96",
   "metadata": {},
   "outputs": [],
   "source": []
  }
 ],
 "metadata": {
  "kernelspec": {
   "display_name": "Python 3 (ipykernel)",
   "language": "python",
   "name": "python3"
  },
  "language_info": {
   "codemirror_mode": {
    "name": "ipython",
    "version": 3
   },
   "file_extension": ".py",
   "mimetype": "text/x-python",
   "name": "python",
   "nbconvert_exporter": "python",
   "pygments_lexer": "ipython3",
   "version": "3.11.5"
  }
 },
 "nbformat": 4,
 "nbformat_minor": 5
}
